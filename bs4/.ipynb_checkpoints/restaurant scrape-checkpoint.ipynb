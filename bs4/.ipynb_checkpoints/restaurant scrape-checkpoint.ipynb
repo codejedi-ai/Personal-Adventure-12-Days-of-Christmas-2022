{
 "cells": [
  {
   "cell_type": "code",
   "execution_count": null,
   "id": "11c16b88",
   "metadata": {},
   "outputs": [],
   "source": []
  },
  {
   "cell_type": "code",
   "execution_count": 1,
   "id": "1b0061a1",
   "metadata": {},
   "outputs": [
    {
     "name": "stdout",
     "output_type": "stream",
     "text": [
      "Il Gattopardo\n",
      "Kellari Taverna\n",
      "Dagon\n",
      "Page: 1 | Downloaded: 3\n"
     ]
    },
    {
     "ename": "NameError",
     "evalue": "name 'By' is not defined",
     "output_type": "error",
     "traceback": [
      "\u001b[0;31m---------------------------------------------------------------------------\u001b[0m",
      "\u001b[0;31mNameError\u001b[0m                                 Traceback (most recent call last)",
      "Cell \u001b[0;32mIn[1], line 56\u001b[0m\n\u001b[1;32m     54\u001b[0m     collected \u001b[38;5;241m+\u001b[39m\u001b[38;5;241m=\u001b[39m \u001b[38;5;28mlen\u001b[39m(new_data)\n\u001b[1;32m     55\u001b[0m     \u001b[38;5;28mprint\u001b[39m(\u001b[38;5;124mf\u001b[39m\u001b[38;5;124m'\u001b[39m\u001b[38;5;124mPage: \u001b[39m\u001b[38;5;132;01m{\u001b[39;00mpage\u001b[38;5;132;01m}\u001b[39;00m\u001b[38;5;124m | Downloaded: \u001b[39m\u001b[38;5;132;01m{\u001b[39;00mcollected\u001b[38;5;132;01m}\u001b[39;00m\u001b[38;5;124m'\u001b[39m)\n\u001b[0;32m---> 56\u001b[0m     driver\u001b[38;5;241m.\u001b[39mfind_element(\u001b[43mBy\u001b[49m\u001b[38;5;241m.\u001b[39mxpath(\u001b[38;5;124m\"\u001b[39m\u001b[38;5;124m/html/body/div[1]/div/div/main/div/div/section[3]/footer/button\u001b[39m\u001b[38;5;124m\"\u001b[39m))\u001b[38;5;241m.\u001b[39mclick()\n\u001b[1;32m     62\u001b[0m driver\u001b[38;5;241m.\u001b[39mclose()\n\u001b[1;32m     63\u001b[0m restaurants \u001b[38;5;241m=\u001b[39m pd\u001b[38;5;241m.\u001b[39mread_csv(\u001b[38;5;124m'\u001b[39m\u001b[38;5;124mresults.csv\u001b[39m\u001b[38;5;124m'\u001b[39m)\n",
      "\u001b[0;31mNameError\u001b[0m: name 'By' is not defined"
     ]
    }
   ],
   "source": [
    "# coding: utf-8\n",
    "\n",
    "\n",
    "import re\n",
    "from time import sleep\n",
    "import pandas as pd\n",
    "from bs4 import BeautifulSoup\n",
    "from selenium import webdriver\n",
    "from selenium.webdriver.common.by import By\n",
    "\n",
    "def parse_html(html):\n",
    "    \"\"\"Parse content from various tags from OpenTable restaurants listing\"\"\"\n",
    "    data, item = pd.DataFrame(), {}\n",
    "    soup = BeautifulSoup(html, 'lxml')\n",
    "    for i, resto in enumerate(soup.find_all('li', class_='eRPymgXfpzy0URoilpZj')):\n",
    "        print(resto.find('h6', class_='tfljo0SQq0JS3FOxpvxL').text)\n",
    "        \n",
    "        item['name'] = resto.find('h6', class_='tfljo0SQq0JS3FOxpvxL').text\n",
    "        ''' \n",
    "        booking = resto.find('div', class_='booking')\n",
    "        item['bookings'] = re.search('\\d+', booking.text).group() if booking else 'NA'\n",
    "\n",
    "        rating = resto.find('div', class_='star-rating-score')\n",
    "        item['rating'] = float(rating['aria-label'].split()[0]) if rating else 'NA'\n",
    "\n",
    "        reviews = resto.find('span', class_='underline-hover')\n",
    "        item['reviews'] = int(re.search('\\d+', reviews.text).group()) if reviews else 'NA'\n",
    "\n",
    "        item['price'] = int(resto.find('div', class_='rest-row-pricing').find('i').text.count('$'))\n",
    "        item['cuisine'] = resto.find('span', class_='rest-row-meta--cuisine rest-row-meta-text sfx1388addContent').text\n",
    "        item['location'] = resto.find('span', class_='rest-row-meta--location rest-row-meta-text sfx1388addContent').text\n",
    "        '''\n",
    "        data[i] = pd.Series(item)\n",
    "        \n",
    "    return data.T\n",
    "\n",
    "\n",
    "# Start selenium and click through pages until reach end\n",
    "# store results by iteratively appending to csv file\n",
    "driver = webdriver.Firefox()\n",
    "url = \"https://www.opentable.com/new-york-restaurant-listings\"\n",
    "driver.get(url)\n",
    "page = collected = 0\n",
    "while True:\n",
    "    sleep(1)\n",
    "    new_data = parse_html(driver.page_source)\n",
    "    if new_data.empty:\n",
    "        break\n",
    "    if page == 0:\n",
    "        new_data.to_csv('results.csv', index=False)\n",
    "    elif page > 0:\n",
    "        new_data.to_csv('results.csv', index=False, header=None, mode='a')\n",
    "    page += 1\n",
    "    collected += len(new_data)\n",
    "    print(f'Page: {page} | Downloaded: {collected}')\n",
    "    driver.find_element(By.xpath(\"/html/body/div[1]/div/div/main/div/div/section[3]/footer/button\")).click()\n",
    "    \n",
    "    \n",
    "\n",
    "\n",
    "\n",
    "driver.close()\n",
    "restaurants = pd.read_csv('results.csv')\n",
    "print(restaurants)\n"
   ]
  },
  {
   "cell_type": "code",
   "execution_count": null,
   "id": "fa7deeca",
   "metadata": {},
   "outputs": [],
   "source": []
  }
 ],
 "metadata": {
  "kernelspec": {
   "display_name": "Python 3 (ipykernel)",
   "language": "python",
   "name": "python3"
  },
  "language_info": {
   "codemirror_mode": {
    "name": "ipython",
    "version": 3
   },
   "file_extension": ".py",
   "mimetype": "text/x-python",
   "name": "python",
   "nbconvert_exporter": "python",
   "pygments_lexer": "ipython3",
   "version": "3.8.15"
  }
 },
 "nbformat": 4,
 "nbformat_minor": 5
}
