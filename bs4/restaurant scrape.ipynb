{
 "cells": [
  {
   "cell_type": "code",
   "execution_count": 1,
   "id": "11c16b88",
   "metadata": {},
   "outputs": [],
   "source": [
    "import re\n",
    "from time import sleep\n",
    "import pandas as pd\n",
    "from bs4 import BeautifulSoup\n",
    "from selenium import webdriver\n",
    "from selenium.webdriver.common.by import By"
   ]
  },
  {
   "cell_type": "code",
   "execution_count": 2,
   "id": "a1b747f0",
   "metadata": {},
   "outputs": [],
   "source": [
    "# coding: utf-8\n",
    "\n",
    "\n",
    "\n",
    "\n",
    "# Start selenium and click through pages until reach end\n",
    "# store results by iteratively appending to csv file\n",
    "driver = webdriver.Firefox()\n",
    "url = \"https://www.opentable.com/new-york-restaurant-listings\"\n",
    "driver.get(url)\n",
    "page = collected = 0"
   ]
  },
  {
   "cell_type": "code",
   "execution_count": 13,
   "id": "fa7deeca",
   "metadata": {},
   "outputs": [],
   "source": [
    "driver.find_element(By.XPATH,\"/html/body/div[1]/div/div/main/div/div/section[3]/footer/button\").click()    "
   ]
  },
  {
   "cell_type": "code",
   "execution_count": 16,
   "id": "8b428914",
   "metadata": {},
   "outputs": [],
   "source": [
    "\n",
    "def parse_html(html):\n",
    "    \"\"\"Parse content from various tags from OpenTable restaurants listing\"\"\"\n",
    "    data, item = pd.DataFrame(), {}\n",
    "    soup = BeautifulSoup(html, 'lxml')\n",
    "    for i, resto in enumerate(soup..findAll('div', attrs = {'data-test':'restaurant-cards'}):):\n",
    "        \n",
    "        \n",
    "        print(resto.find('h6', class_='tfljo0SQq0JS3FOxpvxL').text)\n",
    "        \n",
    "        item['name'] = resto.find('h6', class_='tfljo0SQq0JS3FOxpvxL').text\n",
    "        ''' \n",
    "        booking = resto.find('div', class_='booking')\n",
    "        item['bookings'] = re.search('\\d+', booking.text).group() if booking else 'NA'\n",
    "\n",
    "        rating = resto.find('div', class_='star-rating-score')\n",
    "        item['rating'] = float(rating['aria-label'].split()[0]) if rating else 'NA'\n",
    "\n",
    "        reviews = resto.find('span', class_='underline-hover')\n",
    "        item['reviews'] = int(re.search('\\d+', reviews.text).group()) if reviews else 'NA'\n",
    "\n",
    "        item['price'] = int(resto.find('div', class_='rest-row-pricing').find('i').text.count('$'))\n",
    "        item['cuisine'] = resto.find('span', class_='rest-row-meta--cuisine rest-row-meta-text sfx1388addContent').text\n",
    "        item['location'] = resto.find('span', class_='rest-row-meta--location rest-row-meta-text sfx1388addContent').text\n",
    "        '''\n",
    "        data[i] = pd.Series(item)\n",
    "        \n",
    "    return data.T\n"
   ]
  },
  {
   "cell_type": "code",
   "execution_count": 17,
   "id": "bf9b8deb",
   "metadata": {},
   "outputs": [
    {
     "name": "stdout",
     "output_type": "stream",
     "text": [
      "Il Gattopardo\n",
      "Kellari Taverna\n"
     ]
    }
   ],
   "source": [
    "new_data = parse_html(driver.page_source)"
   ]
  },
  {
   "cell_type": "code",
   "execution_count": 9,
   "id": "691afdd2",
   "metadata": {},
   "outputs": [
    {
     "data": {
      "text/html": [
       "<div>\n",
       "<style scoped>\n",
       "    .dataframe tbody tr th:only-of-type {\n",
       "        vertical-align: middle;\n",
       "    }\n",
       "\n",
       "    .dataframe tbody tr th {\n",
       "        vertical-align: top;\n",
       "    }\n",
       "\n",
       "    .dataframe thead th {\n",
       "        text-align: right;\n",
       "    }\n",
       "</style>\n",
       "<table border=\"1\" class=\"dataframe\">\n",
       "  <thead>\n",
       "    <tr style=\"text-align: right;\">\n",
       "      <th></th>\n",
       "      <th>name</th>\n",
       "    </tr>\n",
       "  </thead>\n",
       "  <tbody>\n",
       "    <tr>\n",
       "      <th>0</th>\n",
       "      <td>Il Gattopardo</td>\n",
       "    </tr>\n",
       "    <tr>\n",
       "      <th>1</th>\n",
       "      <td>Kellari Taverna</td>\n",
       "    </tr>\n",
       "    <tr>\n",
       "      <th>2</th>\n",
       "      <td>Dagon</td>\n",
       "    </tr>\n",
       "  </tbody>\n",
       "</table>\n",
       "</div>"
      ],
      "text/plain": [
       "              name\n",
       "0    Il Gattopardo\n",
       "1  Kellari Taverna\n",
       "2            Dagon"
      ]
     },
     "execution_count": 9,
     "metadata": {},
     "output_type": "execute_result"
    }
   ],
   "source": [
    "new_data"
   ]
  },
  {
   "cell_type": "code",
   "execution_count": 10,
   "id": "603fb686",
   "metadata": {},
   "outputs": [],
   "source": [
    "driver.close()"
   ]
  },
  {
   "cell_type": "code",
   "execution_count": null,
   "id": "1b0061a1",
   "metadata": {},
   "outputs": [],
   "source": [
    "\n",
    "while True:\n",
    "    sleep(1)\n",
    "    new_data = parse_html(driver.page_source)\n",
    "    if new_data.empty:\n",
    "        break\n",
    "    if page == 0:\n",
    "        new_data.to_csv('results.csv', index=False)\n",
    "    elif page > 0:\n",
    "        new_data.to_csv('results.csv', index=False, header=None, mode='a')\n",
    "    page += 1\n",
    "    collected += len(new_data)\n",
    "    print(f'Page: {page} | Downloaded: {collected}')\n",
    "\n",
    "\n",
    "driver.close()\n",
    "restaurants = pd.read_csv('results.csv')\n",
    "print(restaurants)\n"
   ]
  }
 ],
 "metadata": {
  "kernelspec": {
   "display_name": "Python 3 (ipykernel)",
   "language": "python",
   "name": "python3"
  },
  "language_info": {
   "codemirror_mode": {
    "name": "ipython",
    "version": 3
   },
   "file_extension": ".py",
   "mimetype": "text/x-python",
   "name": "python",
   "nbconvert_exporter": "python",
   "pygments_lexer": "ipython3",
   "version": "3.8.15"
  }
 },
 "nbformat": 4,
 "nbformat_minor": 5
}
