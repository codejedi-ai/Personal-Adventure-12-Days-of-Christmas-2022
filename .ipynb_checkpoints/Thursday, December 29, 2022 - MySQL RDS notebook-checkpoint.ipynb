{
 "cells": [
  {
   "cell_type": "code",
   "execution_count": 1,
   "id": "c1242c1c",
   "metadata": {},
   "outputs": [],
   "source": [
    "import mysql.connector"
   ]
  },
  {
   "cell_type": "markdown",
   "id": "6dd67881",
   "metadata": {},
   "source": [
    "# The credentials to the server\n",
    "\n",
    "DB cluster identifier: database-1\n",
    "\n",
    "username: admin\n",
    "\n",
    "password: 12345678\n",
    "\n",
    "host: \n",
    "\n",
    "port: 3306\n",
    "\n",
    "following the guide from: https://er-kalpanasharma.medium.com/creating-an-aws-rds-mysql-instance-and-connect-to-it-using-python-ea6292df3e1c"
   ]
  },
  {
   "cell_type": "code",
   "execution_count": 12,
   "id": "5aa0d68c",
   "metadata": {},
   "outputs": [
    {
     "name": "stdout",
     "output_type": "stream",
     "text": [
      "Collecting PyMySQL\n",
      "  Downloading PyMySQL-1.0.2-py3-none-any.whl (43 kB)\n",
      "\u001b[2K     \u001b[90m━━━━━━━━━━━━━━━━━━━━━━━━━━━━━━━━━━━━━━━━\u001b[0m \u001b[32m43.8/43.8 kB\u001b[0m \u001b[31m2.4 MB/s\u001b[0m eta \u001b[36m0:00:00\u001b[0m\n",
      "\u001b[?25hInstalling collected packages: PyMySQL\n",
      "Successfully installed PyMySQL-1.0.2\n",
      "Note: you may need to restart the kernel to use updated packages.\n"
     ]
    }
   ],
   "source": [
    "pip install PyMySQL"
   ]
  },
  {
   "cell_type": "code",
   "execution_count": 38,
   "id": "ead1d1bc",
   "metadata": {},
   "outputs": [],
   "source": [
    "import psycopg2\n",
    "import pymysql\n",
    "conn = pymysql.connect(\n",
    "            host='database-1.cluster-crrx2vm7njo6.us-east-1.rds.amazonaws.com',\n",
    "            user='admin', \n",
    "            password = \"12345678\",\n",
    "        )"
   ]
  },
  {
   "cell_type": "code",
   "execution_count": 39,
   "id": "323bdb6c",
   "metadata": {},
   "outputs": [],
   "source": [
    "cursor = db.cursor()"
   ]
  },
  {
   "cell_type": "code",
   "execution_count": 40,
   "id": "199814d7",
   "metadata": {},
   "outputs": [
    {
     "data": {
      "text/plain": [
       "<pymysql.cursors.Cursor at 0x109203c10>"
      ]
     },
     "execution_count": 40,
     "metadata": {},
     "output_type": "execute_result"
    }
   ],
   "source": [
    "cursor"
   ]
  },
  {
   "cell_type": "code",
   "execution_count": 41,
   "id": "96774187",
   "metadata": {},
   "outputs": [
    {
     "data": {
      "text/plain": [
       "1"
      ]
     },
     "execution_count": 41,
     "metadata": {},
     "output_type": "execute_result"
    }
   ],
   "source": [
    "cursor.execute(\" SELECT VERSION()\")"
   ]
  },
  {
   "cell_type": "code",
   "execution_count": 42,
   "id": "7fbba59e",
   "metadata": {},
   "outputs": [
    {
     "data": {
      "text/plain": [
       "('8.0.28',)"
      ]
     },
     "execution_count": 42,
     "metadata": {},
     "output_type": "execute_result"
    }
   ],
   "source": [
    "cursor.fetchone()"
   ]
  },
  {
   "cell_type": "code",
   "execution_count": 43,
   "id": "a8b64d35",
   "metadata": {},
   "outputs": [],
   "source": []
  },
  {
   "cell_type": "markdown",
   "id": "551c641f",
   "metadata": {},
   "source": [
    "# Create table"
   ]
  },
  {
   "cell_type": "code",
   "execution_count": 46,
   "id": "558f7709",
   "metadata": {},
   "outputs": [],
   "source": [
    "#Lets's create a DB\n",
    "sql = '''create database kTestDb'''\n",
    "cursor.execute(sql)\n",
    "cursor.connection.commit()"
   ]
  },
  {
   "cell_type": "code",
   "execution_count": 48,
   "id": "c0005925",
   "metadata": {},
   "outputs": [
    {
     "data": {
      "text/plain": [
       "5"
      ]
     },
     "execution_count": 48,
     "metadata": {},
     "output_type": "execute_result"
    }
   ],
   "source": [
    "#Create a table \n",
    "sql = '''SHOW DATABASES;'''\n",
    "cursor.execute(sql)"
   ]
  },
  {
   "cell_type": "code",
   "execution_count": 49,
   "id": "d4fdd87c",
   "metadata": {},
   "outputs": [
    {
     "data": {
      "text/plain": [
       "(('information_schema',),\n",
       " ('kTestDb',),\n",
       " ('mysql',),\n",
       " ('performance_schema',),\n",
       " ('sys',))"
      ]
     },
     "execution_count": 49,
     "metadata": {},
     "output_type": "execute_result"
    }
   ],
   "source": [
    "cursor.fetchall()"
   ]
  },
  {
   "cell_type": "code",
   "execution_count": 52,
   "id": "f9fd73fa",
   "metadata": {},
   "outputs": [
    {
     "data": {
      "text/plain": [
       "0"
      ]
     },
     "execution_count": 52,
     "metadata": {},
     "output_type": "execute_result"
    }
   ],
   "source": [
    "sql = '''USE kTestDb;'''\n",
    "cursor.execute(sql)"
   ]
  },
  {
   "cell_type": "code",
   "execution_count": 53,
   "id": "387d0d2b",
   "metadata": {},
   "outputs": [
    {
     "data": {
      "text/plain": [
       "()"
      ]
     },
     "execution_count": 53,
     "metadata": {},
     "output_type": "execute_result"
    }
   ],
   "source": [
    "cursor.fetchall()"
   ]
  },
  {
   "cell_type": "code",
   "execution_count": 54,
   "id": "17dd18d7",
   "metadata": {},
   "outputs": [
    {
     "data": {
      "text/plain": [
       "0"
      ]
     },
     "execution_count": 54,
     "metadata": {},
     "output_type": "execute_result"
    }
   ],
   "source": [
    "#Create a table \n",
    "sql = '''create table person ( \n",
    "                id int not null auto_increment,\n",
    "                fname text, \n",
    "                lname text, \n",
    "                primary key (id) \n",
    "         )'''\n",
    "cursor.execute(sql)"
   ]
  },
  {
   "cell_type": "code",
   "execution_count": 55,
   "id": "1a204e6b",
   "metadata": {},
   "outputs": [
    {
     "data": {
      "text/plain": [
       "(('person',),)"
      ]
     },
     "execution_count": 55,
     "metadata": {},
     "output_type": "execute_result"
    }
   ],
   "source": [
    "#Check if our table is created or not \n",
    "sql = '''show tables'''\n",
    "cursor.execute(sql)\n",
    "cursor.fetchall()\n",
    "#Output of above will be (('person',),)"
   ]
  },
  {
   "cell_type": "code",
   "execution_count": 56,
   "id": "451988ff",
   "metadata": {},
   "outputs": [],
   "source": [
    "#Insert some records in the table \n",
    "sql = ''' insert into person(fname, lname) values('%s', '%s')''' % ('XXX', 'YYY')\n",
    "cursor.execute(sql)\n",
    "db.commit()"
   ]
  },
  {
   "cell_type": "code",
   "execution_count": 57,
   "id": "5b4c1ec0",
   "metadata": {},
   "outputs": [
    {
     "data": {
      "text/plain": [
       "((1, 'XXX', 'YYY'),)"
      ]
     },
     "execution_count": 57,
     "metadata": {},
     "output_type": "execute_result"
    }
   ],
   "source": [
    "#Lets select the data from above added table\n",
    "sql = '''select * from person'''\n",
    "cursor.execute(sql)\n",
    "cursor.fetchall()\n",
    "#Output of above will be ((1, 'XXX', 'YYY'),)"
   ]
  },
  {
   "cell_type": "code",
   "execution_count": null,
   "id": "1f32d8c8",
   "metadata": {},
   "outputs": [],
   "source": []
  }
 ],
 "metadata": {
  "kernelspec": {
   "display_name": "Python 3 (ipykernel)",
   "language": "python",
   "name": "python3"
  },
  "language_info": {
   "codemirror_mode": {
    "name": "ipython",
    "version": 3
   },
   "file_extension": ".py",
   "mimetype": "text/x-python",
   "name": "python",
   "nbconvert_exporter": "python",
   "pygments_lexer": "ipython3",
   "version": "3.8.15"
  }
 },
 "nbformat": 4,
 "nbformat_minor": 5
}
