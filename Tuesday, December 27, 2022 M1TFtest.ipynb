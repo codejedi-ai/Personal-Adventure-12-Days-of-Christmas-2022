{
 "cells": [
  {
   "cell_type": "code",
   "execution_count": 1,
   "id": "68aaaa7a",
   "metadata": {},
   "outputs": [
    {
     "name": "stdout",
     "output_type": "stream",
     "text": [
      "Num GPUs Available:  1\n"
     ]
    }
   ],
   "source": [
    "import tensorflow as tf\n",
    "print(\"Num GPUs Available: \", len(tf.config.experimental.list_physical_devices('GPU')))"
   ]
  },
  {
   "cell_type": "code",
   "execution_count": 4,
   "id": "80068ec4",
   "metadata": {},
   "outputs": [
    {
     "name": "stdout",
     "output_type": "stream",
     "text": [
      "TensorFlow version: 2.9.0\n",
      "Num GPUs Available:  1\n",
      "Metal device set to: Apple M1\n",
      "WARNING:tensorflow:AutoGraph could not transform <function normalize_img at 0x169d60940> and will run it as-is.\n",
      "Cause: Unable to locate the source code of <function normalize_img at 0x169d60940>. Note that functions defined in certain environments, like the interactive Python shell, do not expose their source code. If that is the case, you should define them in a .py source file. If you are certain the code is graph-compatible, wrap the call using @tf.autograph.experimental.do_not_convert. Original error: could not get source code\n",
      "To silence this warning, decorate the function with @tf.autograph.experimental.do_not_convert\n"
     ]
    },
    {
     "name": "stderr",
     "output_type": "stream",
     "text": [
      "2022-12-27 10:04:30.988231: I tensorflow/core/common_runtime/pluggable_device/pluggable_device_factory.cc:305] Could not identify NUMA node of platform GPU ID 0, defaulting to 0. Your kernel may not have been built with NUMA support.\n",
      "2022-12-27 10:04:30.988363: I tensorflow/core/common_runtime/pluggable_device/pluggable_device_factory.cc:271] Created TensorFlow device (/job:localhost/replica:0/task:0/device:GPU:0 with 0 MB memory) -> physical PluggableDevice (device: 0, name: METAL, pci bus id: <undefined>)\n",
      "WARNING:tensorflow:AutoGraph could not transform <function normalize_img at 0x169d60940> and will run it as-is.\n",
      "Cause: Unable to locate the source code of <function normalize_img at 0x169d60940>. Note that functions defined in certain environments, like the interactive Python shell, do not expose their source code. If that is the case, you should define them in a .py source file. If you are certain the code is graph-compatible, wrap the call using @tf.autograph.experimental.do_not_convert. Original error: could not get source code\n",
      "To silence this warning, decorate the function with @tf.autograph.experimental.do_not_convert\n"
     ]
    },
    {
     "name": "stdout",
     "output_type": "stream",
     "text": [
      "WARNING: AutoGraph could not transform <function normalize_img at 0x169d60940> and will run it as-is.\n",
      "Cause: Unable to locate the source code of <function normalize_img at 0x169d60940>. Note that functions defined in certain environments, like the interactive Python shell, do not expose their source code. If that is the case, you should define them in a .py source file. If you are certain the code is graph-compatible, wrap the call using @tf.autograph.experimental.do_not_convert. Original error: could not get source code\n",
      "To silence this warning, decorate the function with @tf.autograph.experimental.do_not_convert\n",
      "Epoch 1/12\n"
     ]
    },
    {
     "name": "stderr",
     "output_type": "stream",
     "text": [
      "2022-12-27 10:04:31.505019: W tensorflow/core/platform/profile_utils/cpu_utils.cc:128] Failed to get CPU frequency: 0 Hz\n",
      "2022-12-27 10:04:31.505430: I tensorflow/core/grappler/optimizers/custom_graph_optimizer_registry.cc:113] Plugin optimizer for device_type GPU is enabled.\n"
     ]
    },
    {
     "name": "stdout",
     "output_type": "stream",
     "text": [
      "469/469 [==============================] - ETA: 0s - loss: 0.1591 - accuracy: 0.9513"
     ]
    },
    {
     "name": "stderr",
     "output_type": "stream",
     "text": [
      "2022-12-27 10:04:41.156791: I tensorflow/core/grappler/optimizers/custom_graph_optimizer_registry.cc:113] Plugin optimizer for device_type GPU is enabled.\n"
     ]
    },
    {
     "name": "stdout",
     "output_type": "stream",
     "text": [
      "469/469 [==============================] - 11s 19ms/step - loss: 0.1591 - accuracy: 0.9513 - val_loss: 0.0474 - val_accuracy: 0.9860\n",
      "Epoch 2/12\n",
      "469/469 [==============================] - 9s 18ms/step - loss: 0.0447 - accuracy: 0.9862 - val_loss: 0.0414 - val_accuracy: 0.9864\n",
      "Epoch 3/12\n",
      "469/469 [==============================] - 8s 18ms/step - loss: 0.0303 - accuracy: 0.9909 - val_loss: 0.0337 - val_accuracy: 0.9896\n",
      "Epoch 4/12\n",
      "469/469 [==============================] - 9s 18ms/step - loss: 0.0192 - accuracy: 0.9939 - val_loss: 0.0338 - val_accuracy: 0.9894\n",
      "Epoch 5/12\n",
      "469/469 [==============================] - 9s 18ms/step - loss: 0.0134 - accuracy: 0.9959 - val_loss: 0.0322 - val_accuracy: 0.9902\n",
      "Epoch 6/12\n",
      "469/469 [==============================] - 9s 18ms/step - loss: 0.0120 - accuracy: 0.9960 - val_loss: 0.0453 - val_accuracy: 0.9864\n",
      "Epoch 7/12\n",
      "469/469 [==============================] - 8s 18ms/step - loss: 0.0090 - accuracy: 0.9970 - val_loss: 0.0331 - val_accuracy: 0.9909\n",
      "Epoch 8/12\n",
      "469/469 [==============================] - 9s 18ms/step - loss: 0.0073 - accuracy: 0.9975 - val_loss: 0.0415 - val_accuracy: 0.9880\n",
      "Epoch 9/12\n",
      "469/469 [==============================] - 9s 18ms/step - loss: 0.0060 - accuracy: 0.9981 - val_loss: 0.0459 - val_accuracy: 0.9887\n",
      "Epoch 10/12\n",
      "469/469 [==============================] - 9s 18ms/step - loss: 0.0055 - accuracy: 0.9983 - val_loss: 0.0402 - val_accuracy: 0.9897\n",
      "Epoch 11/12\n",
      "469/469 [==============================] - 9s 18ms/step - loss: 0.0062 - accuracy: 0.9979 - val_loss: 0.0417 - val_accuracy: 0.9891\n",
      "Epoch 12/12\n",
      "469/469 [==============================] - 9s 18ms/step - loss: 0.0029 - accuracy: 0.9990 - val_loss: 0.0411 - val_accuracy: 0.9904\n",
      "CPU times: user 32.7 s, sys: 22.8 s, total: 55.5 s\n",
      "Wall time: 1min 45s\n"
     ]
    },
    {
     "data": {
      "text/plain": [
       "<keras.callbacks.History at 0x169d54970>"
      ]
     },
     "execution_count": 4,
     "metadata": {},
     "output_type": "execute_result"
    }
   ],
   "source": [
    "%%time\n",
    "import tensorflow as tf\n",
    "import tensorflow_datasets as tfds\n",
    "print(\"TensorFlow version:\", tf.__version__)\n",
    "print(\"Num GPUs Available: \", len(tf.config.experimental.list_physical_devices('GPU')))\n",
    "tf.config.list_physical_devices('GPU')\n",
    "(ds_train, ds_test), ds_info = tfds.load(\n",
    "    'mnist',\n",
    "    split=['train', 'test'],\n",
    "    shuffle_files=True,\n",
    "    as_supervised=True,\n",
    "    with_info=True,\n",
    ")\n",
    "def normalize_img(image, label):\n",
    "  \"\"\"Normalizes images: `uint8` -> `float32`.\"\"\"\n",
    "  return tf.cast(image, tf.float32) / 255., label\n",
    "batch_size = 128\n",
    "ds_train = ds_train.map(\n",
    "    normalize_img, num_parallel_calls=tf.data.experimental.AUTOTUNE)\n",
    "ds_train = ds_train.cache()\n",
    "ds_train = ds_train.shuffle(ds_info.splits['train'].num_examples)\n",
    "ds_train = ds_train.batch(batch_size)\n",
    "ds_train = ds_train.prefetch(tf.data.experimental.AUTOTUNE)\n",
    "ds_test = ds_test.map(\n",
    "    normalize_img, num_parallel_calls=tf.data.experimental.AUTOTUNE)\n",
    "ds_test = ds_test.batch(batch_size)\n",
    "ds_test = ds_test.cache()\n",
    "ds_test = ds_test.prefetch(tf.data.experimental.AUTOTUNE)\n",
    "model = tf.keras.models.Sequential([\n",
    "  tf.keras.layers.Conv2D(32, kernel_size=(3, 3),\n",
    "                 activation='relu'),\n",
    "  tf.keras.layers.Conv2D(64, kernel_size=(3, 3),\n",
    "                 activation='relu'),\n",
    "  tf.keras.layers.MaxPooling2D(pool_size=(2, 2)),\n",
    "#   tf.keras.layers.Dropout(0.25),\n",
    "  tf.keras.layers.Flatten(),\n",
    "  tf.keras.layers.Dense(128, activation='relu'),\n",
    "#   tf.keras.layers.Dropout(0.5),\n",
    "  tf.keras.layers.Dense(10, activation='softmax')\n",
    "])\n",
    "model.compile(\n",
    "    loss='sparse_categorical_crossentropy',\n",
    "    optimizer=tf.keras.optimizers.Adam(0.001),\n",
    "    metrics=['accuracy'],\n",
    ")\n",
    "model.fit(\n",
    "    ds_train,\n",
    "    epochs=12,\n",
    "    validation_data=ds_test,\n",
    ")"
   ]
  },
  {
   "cell_type": "code",
   "execution_count": 1,
   "id": "fe9d6889",
   "metadata": {},
   "outputs": [
    {
     "name": "stdout",
     "output_type": "stream",
     "text": [
      "Python Platform: macOS-12.6.1-arm64-arm-64bit\n",
      "Tensor Flow Version: 2.9.0\n",
      "Keras Version: 2.9.0\n",
      "\n",
      "Python 3.9.15 | packaged by conda-forge | (main, Nov 22 2022, 08:48:25) \n",
      "[Clang 14.0.6 ]\n",
      "Pandas 1.5.2\n",
      "Scikit-Learn 1.2.0\n",
      "GPU is available\n"
     ]
    }
   ],
   "source": [
    "# What version of Python do you have?\n",
    "import sys\n",
    "\n",
    "import tensorflow.keras\n",
    "import pandas as pd\n",
    "import sklearn as sk\n",
    "import tensorflow as tf\n",
    "import platform\n",
    "\n",
    "print(f\"Python Platform: {platform.platform()}\")\n",
    "print(f\"Tensor Flow Version: {tf.__version__}\")\n",
    "print(f\"Keras Version: {tensorflow.keras.__version__}\")\n",
    "print()\n",
    "print(f\"Python {sys.version}\")\n",
    "print(f\"Pandas {pd.__version__}\")\n",
    "print(f\"Scikit-Learn {sk.__version__}\")\n",
    "gpu = len(tf.config.list_physical_devices('GPU'))>0\n",
    "print(\"GPU is\", \"available\" if gpu else \"NOT AVAILABLE\")"
   ]
  },
  {
   "cell_type": "code",
   "execution_count": 2,
   "id": "e03f01f4",
   "metadata": {},
   "outputs": [
    {
     "name": "stdout",
     "output_type": "stream",
     "text": [
      "Collecting tensorflow_datasets\n",
      "  Using cached tensorflow_datasets-4.8.0-py3-none-any.whl (5.2 MB)\n",
      "Collecting etils[epath]\n",
      "  Using cached etils-0.9.0-py3-none-any.whl (140 kB)\n",
      "Requirement already satisfied: termcolor in /Users/darcyliu/anaconda3/envs/tensorflow-m1/lib/python3.9/site-packages (from tensorflow_datasets) (2.1.1)\n",
      "Collecting dm-tree\n",
      "  Using cached dm_tree-0.1.8-cp39-cp39-macosx_11_0_arm64.whl (110 kB)\n",
      "Requirement already satisfied: tqdm in /Users/darcyliu/anaconda3/envs/tensorflow-m1/lib/python3.9/site-packages (from tensorflow_datasets) (4.64.1)\n",
      "Requirement already satisfied: psutil in /Users/darcyliu/anaconda3/envs/tensorflow-m1/lib/python3.9/site-packages (from tensorflow_datasets) (5.9.4)\n",
      "Collecting promise\n",
      "  Using cached promise-2.3-py3-none-any.whl\n",
      "Collecting tensorflow-metadata\n",
      "  Using cached tensorflow_metadata-1.12.0-py3-none-any.whl (52 kB)\n",
      "Requirement already satisfied: absl-py in /Users/darcyliu/anaconda3/envs/tensorflow-m1/lib/python3.9/site-packages (from tensorflow_datasets) (1.3.0)\n",
      "Collecting toml\n",
      "  Using cached toml-0.10.2-py2.py3-none-any.whl (16 kB)\n",
      "Requirement already satisfied: protobuf>=3.12.2 in /Users/darcyliu/anaconda3/envs/tensorflow-m1/lib/python3.9/site-packages (from tensorflow_datasets) (3.19.4)\n",
      "Requirement already satisfied: six in /Users/darcyliu/anaconda3/envs/tensorflow-m1/lib/python3.9/site-packages (from tensorflow_datasets) (1.15.0)\n",
      "Requirement already satisfied: click in /Users/darcyliu/anaconda3/envs/tensorflow-m1/lib/python3.9/site-packages (from tensorflow_datasets) (8.1.3)\n",
      "Requirement already satisfied: requests>=2.19.0 in /Users/darcyliu/anaconda3/envs/tensorflow-m1/lib/python3.9/site-packages (from tensorflow_datasets) (2.28.1)\n",
      "Collecting dill\n",
      "  Using cached dill-0.3.6-py3-none-any.whl (110 kB)\n",
      "Requirement already satisfied: numpy in /Users/darcyliu/anaconda3/envs/tensorflow-m1/lib/python3.9/site-packages (from tensorflow_datasets) (1.23.2)\n",
      "Requirement already satisfied: urllib3<1.27,>=1.21.1 in /Users/darcyliu/anaconda3/envs/tensorflow-m1/lib/python3.9/site-packages (from requests>=2.19.0->tensorflow_datasets) (1.26.13)\n",
      "Requirement already satisfied: idna<4,>=2.5 in /Users/darcyliu/anaconda3/envs/tensorflow-m1/lib/python3.9/site-packages (from requests>=2.19.0->tensorflow_datasets) (3.4)\n",
      "Requirement already satisfied: charset-normalizer<3,>=2 in /Users/darcyliu/anaconda3/envs/tensorflow-m1/lib/python3.9/site-packages (from requests>=2.19.0->tensorflow_datasets) (2.1.1)\n",
      "Requirement already satisfied: certifi>=2017.4.17 in /Users/darcyliu/anaconda3/envs/tensorflow-m1/lib/python3.9/site-packages (from requests>=2.19.0->tensorflow_datasets) (2022.12.7)\n",
      "Requirement already satisfied: typing_extensions in /Users/darcyliu/anaconda3/envs/tensorflow-m1/lib/python3.9/site-packages (from etils[epath]->tensorflow_datasets) (4.4.0)\n",
      "Requirement already satisfied: importlib_resources in /Users/darcyliu/anaconda3/envs/tensorflow-m1/lib/python3.9/site-packages (from etils[epath]->tensorflow_datasets) (5.10.1)\n",
      "Requirement already satisfied: zipp in /Users/darcyliu/anaconda3/envs/tensorflow-m1/lib/python3.9/site-packages (from etils[epath]->tensorflow_datasets) (3.11.0)\n",
      "Collecting googleapis-common-protos<2,>=1.52.0\n",
      "  Using cached googleapis_common_protos-1.57.0-py2.py3-none-any.whl (217 kB)\n",
      "Collecting protobuf>=3.12.2\n",
      "  Using cached protobuf-3.20.3-py2.py3-none-any.whl (162 kB)\n",
      "Installing collected packages: dm-tree, toml, protobuf, promise, etils, dill, googleapis-common-protos, tensorflow-metadata, tensorflow_datasets\n",
      "  Attempting uninstall: protobuf\n",
      "    Found existing installation: protobuf 3.19.4\n",
      "    Uninstalling protobuf-3.19.4:\n",
      "      Successfully uninstalled protobuf-3.19.4\n",
      "\u001b[31mERROR: pip's dependency resolver does not currently take into account all the packages that are installed. This behaviour is the source of the following dependency conflicts.\n",
      "tensorboard 2.9.1 requires protobuf<3.20,>=3.9.2, but you have protobuf 3.20.3 which is incompatible.\u001b[0m\u001b[31m\n",
      "\u001b[0mSuccessfully installed dill-0.3.6 dm-tree-0.1.8 etils-0.9.0 googleapis-common-protos-1.57.0 promise-2.3 protobuf-3.20.3 tensorflow-metadata-1.12.0 tensorflow_datasets-4.8.0 toml-0.10.2\n",
      "Note: you may need to restart the kernel to use updated packages.\n"
     ]
    }
   ],
   "source": [
    "pip install tensorflow_datasets\n"
   ]
  },
  {
   "cell_type": "code",
   "execution_count": 3,
   "id": "a339aaa4",
   "metadata": {},
   "outputs": [
    {
     "name": "stdout",
     "output_type": "stream",
     "text": [
      "TensorFlow version: 2.9.0\n",
      "Num GPUs Available:  1\n",
      "Metal device set to: Apple M1\n",
      "WARNING:tensorflow:AutoGraph could not transform <function normalize_img at 0x16a8b6ca0> and will run it as-is.\n",
      "Cause: Unable to locate the source code of <function normalize_img at 0x16a8b6ca0>. Note that functions defined in certain environments, like the interactive Python shell, do not expose their source code. If that is the case, you should define them in a .py source file. If you are certain the code is graph-compatible, wrap the call using @tf.autograph.experimental.do_not_convert. Original error: could not get source code\n",
      "To silence this warning, decorate the function with @tf.autograph.experimental.do_not_convert\n"
     ]
    },
    {
     "name": "stderr",
     "output_type": "stream",
     "text": [
      "2022-12-27 13:21:02.305687: I tensorflow/core/common_runtime/pluggable_device/pluggable_device_factory.cc:305] Could not identify NUMA node of platform GPU ID 0, defaulting to 0. Your kernel may not have been built with NUMA support.\n",
      "2022-12-27 13:21:02.305881: I tensorflow/core/common_runtime/pluggable_device/pluggable_device_factory.cc:271] Created TensorFlow device (/job:localhost/replica:0/task:0/device:GPU:0 with 0 MB memory) -> physical PluggableDevice (device: 0, name: METAL, pci bus id: <undefined>)\n",
      "WARNING:tensorflow:AutoGraph could not transform <function normalize_img at 0x16a8b6ca0> and will run it as-is.\n",
      "Cause: Unable to locate the source code of <function normalize_img at 0x16a8b6ca0>. Note that functions defined in certain environments, like the interactive Python shell, do not expose their source code. If that is the case, you should define them in a .py source file. If you are certain the code is graph-compatible, wrap the call using @tf.autograph.experimental.do_not_convert. Original error: could not get source code\n",
      "To silence this warning, decorate the function with @tf.autograph.experimental.do_not_convert\n"
     ]
    },
    {
     "name": "stdout",
     "output_type": "stream",
     "text": [
      "WARNING: AutoGraph could not transform <function normalize_img at 0x16a8b6ca0> and will run it as-is.\n",
      "Cause: Unable to locate the source code of <function normalize_img at 0x16a8b6ca0>. Note that functions defined in certain environments, like the interactive Python shell, do not expose their source code. If that is the case, you should define them in a .py source file. If you are certain the code is graph-compatible, wrap the call using @tf.autograph.experimental.do_not_convert. Original error: could not get source code\n",
      "To silence this warning, decorate the function with @tf.autograph.experimental.do_not_convert\n",
      "Epoch 1/12\n"
     ]
    },
    {
     "name": "stderr",
     "output_type": "stream",
     "text": [
      "2022-12-27 13:21:02.554462: W tensorflow/core/platform/profile_utils/cpu_utils.cc:128] Failed to get CPU frequency: 0 Hz\n",
      "2022-12-27 13:21:02.554879: I tensorflow/core/grappler/optimizers/custom_graph_optimizer_registry.cc:113] Plugin optimizer for device_type GPU is enabled.\n"
     ]
    },
    {
     "name": "stdout",
     "output_type": "stream",
     "text": [
      "469/469 [==============================] - ETA: 0s - loss: 0.1634 - accuracy: 0.9516"
     ]
    },
    {
     "name": "stderr",
     "output_type": "stream",
     "text": [
      "2022-12-27 13:21:11.644007: I tensorflow/core/grappler/optimizers/custom_graph_optimizer_registry.cc:113] Plugin optimizer for device_type GPU is enabled.\n"
     ]
    },
    {
     "name": "stdout",
     "output_type": "stream",
     "text": [
      "469/469 [==============================] - 10s 19ms/step - loss: 0.1634 - accuracy: 0.9516 - val_loss: 0.0555 - val_accuracy: 0.9810\n",
      "Epoch 2/12\n",
      "469/469 [==============================] - 9s 18ms/step - loss: 0.0429 - accuracy: 0.9868 - val_loss: 0.0388 - val_accuracy: 0.9866\n",
      "Epoch 3/12\n",
      "469/469 [==============================] - 9s 19ms/step - loss: 0.0268 - accuracy: 0.9920 - val_loss: 0.0329 - val_accuracy: 0.9892\n",
      "Epoch 4/12\n",
      "469/469 [==============================] - 9s 18ms/step - loss: 0.0184 - accuracy: 0.9941 - val_loss: 0.0311 - val_accuracy: 0.9901\n",
      "Epoch 5/12\n",
      "469/469 [==============================] - 9s 18ms/step - loss: 0.0138 - accuracy: 0.9955 - val_loss: 0.0331 - val_accuracy: 0.9897\n",
      "Epoch 6/12\n",
      "469/469 [==============================] - 9s 18ms/step - loss: 0.0096 - accuracy: 0.9968 - val_loss: 0.0413 - val_accuracy: 0.9873\n",
      "Epoch 7/12\n",
      "469/469 [==============================] - 9s 18ms/step - loss: 0.0093 - accuracy: 0.9967 - val_loss: 0.0337 - val_accuracy: 0.9907\n",
      "Epoch 8/12\n",
      "469/469 [==============================] - 8s 18ms/step - loss: 0.0070 - accuracy: 0.9977 - val_loss: 0.0401 - val_accuracy: 0.9892\n",
      "Epoch 9/12\n",
      "469/469 [==============================] - 8s 18ms/step - loss: 0.0065 - accuracy: 0.9979 - val_loss: 0.0463 - val_accuracy: 0.9867\n",
      "Epoch 10/12\n",
      "469/469 [==============================] - 8s 18ms/step - loss: 0.0060 - accuracy: 0.9981 - val_loss: 0.0373 - val_accuracy: 0.9900\n",
      "Epoch 11/12\n",
      "469/469 [==============================] - 8s 18ms/step - loss: 0.0034 - accuracy: 0.9988 - val_loss: 0.0429 - val_accuracy: 0.9898\n",
      "Epoch 12/12\n",
      "469/469 [==============================] - 8s 18ms/step - loss: 0.0027 - accuracy: 0.9992 - val_loss: 0.0429 - val_accuracy: 0.9908\n",
      "CPU times: user 33.8 s, sys: 23.1 s, total: 57 s\n",
      "Wall time: 1min 44s\n"
     ]
    },
    {
     "data": {
      "text/plain": [
       "<keras.callbacks.History at 0x16ab5e580>"
      ]
     },
     "execution_count": 3,
     "metadata": {},
     "output_type": "execute_result"
    }
   ],
   "source": [
    "%%time\n",
    "import tensorflow as tf\n",
    "import tensorflow_datasets as tfds\n",
    "print(\"TensorFlow version:\", tf.__version__)\n",
    "print(\"Num GPUs Available: \", len(tf.config.experimental.list_physical_devices('GPU')))\n",
    "tf.config.list_physical_devices('GPU')\n",
    "(ds_train, ds_test), ds_info = tfds.load(\n",
    "    'mnist',\n",
    "    split=['train', 'test'],\n",
    "    shuffle_files=True,\n",
    "    as_supervised=True,\n",
    "    with_info=True,\n",
    ")\n",
    "def normalize_img(image, label):\n",
    "  \"\"\"Normalizes images: `uint8` -> `float32`.\"\"\"\n",
    "  return tf.cast(image, tf.float32) / 255., label\n",
    "batch_size = 128\n",
    "ds_train = ds_train.map(\n",
    "    normalize_img, num_parallel_calls=tf.data.experimental.AUTOTUNE)\n",
    "ds_train = ds_train.cache()\n",
    "ds_train = ds_train.shuffle(ds_info.splits['train'].num_examples)\n",
    "ds_train = ds_train.batch(batch_size)\n",
    "ds_train = ds_train.prefetch(tf.data.experimental.AUTOTUNE)\n",
    "ds_test = ds_test.map(\n",
    "    normalize_img, num_parallel_calls=tf.data.experimental.AUTOTUNE)\n",
    "ds_test = ds_test.batch(batch_size)\n",
    "ds_test = ds_test.cache()\n",
    "ds_test = ds_test.prefetch(tf.data.experimental.AUTOTUNE)\n",
    "model = tf.keras.models.Sequential([\n",
    "  tf.keras.layers.Conv2D(32, kernel_size=(3, 3),\n",
    "                 activation='relu'),\n",
    "  tf.keras.layers.Conv2D(64, kernel_size=(3, 3),\n",
    "                 activation='relu'),\n",
    "  tf.keras.layers.MaxPooling2D(pool_size=(2, 2)),\n",
    "#   tf.keras.layers.Dropout(0.25),\n",
    "  tf.keras.layers.Flatten(),\n",
    "  tf.keras.layers.Dense(128, activation='relu'),\n",
    "#   tf.keras.layers.Dropout(0.5),\n",
    "  tf.keras.layers.Dense(10, activation='softmax')\n",
    "])\n",
    "model.compile(\n",
    "    loss='sparse_categorical_crossentropy',\n",
    "    optimizer=tf.keras.optimizers.Adam(0.001),\n",
    "    metrics=['accuracy'],\n",
    ")\n",
    "model.fit(\n",
    "    ds_train,\n",
    "    epochs=12,\n",
    "    validation_data=ds_test,\n",
    ")"
   ]
  },
  {
   "cell_type": "code",
   "execution_count": null,
   "id": "e0e091e7",
   "metadata": {},
   "outputs": [],
   "source": [
    "pip install tensorflow_datasets"
   ]
  }
 ],
 "metadata": {
  "kernelspec": {
   "display_name": "Python 3 (ipykernel)",
   "language": "python",
   "name": "python3"
  },
  "language_info": {
   "codemirror_mode": {
    "name": "ipython",
    "version": 3
   },
   "file_extension": ".py",
   "mimetype": "text/x-python",
   "name": "python",
   "nbconvert_exporter": "python",
   "pygments_lexer": "ipython3",
   "version": "3.9.15"
  }
 },
 "nbformat": 4,
 "nbformat_minor": 5
}
